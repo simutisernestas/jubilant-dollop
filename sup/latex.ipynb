{
 "cells": [
  {
   "cell_type": "code",
   "execution_count": 12,
   "metadata": {},
   "outputs": [],
   "source": [
    "import sympy as sp\n",
    "import numpy as np\n",
    "\n",
    "dt = sp.var(\"dt\")\n",
    "I = np.eye(3)\n",
    "Idt = np.eye(3) * dt\n",
    "Idt2 = .5 * np.eye(3) * dt**2\n",
    "from scipy.linalg import block_diag\n",
    "# F = block_diag(I, I, I)\n",
    "# F = sp.Matrix(F)\n",
    "# F[0:3, 3:6] = Idt\n",
    "# B = np.zeros((9, 6))\n",
    "# B = sp.Matrix(B)\n",
    "# B[0:3, 0:3] = Idt2\n",
    "# B[3:6, 0:3] = Idt\n",
    "# B[6:9, 3:6] = Idt\n",
    "# B"
   ]
  },
  {
   "cell_type": "code",
   "execution_count": 13,
   "metadata": {},
   "outputs": [],
   "source": [
    "# sp.print_latex(sp.Matrix(B))"
   ]
  },
  {
   "cell_type": "code",
   "execution_count": 14,
   "metadata": {},
   "outputs": [
    {
     "name": "stdout",
     "output_type": "stream",
     "text": [
      "\\left[\\begin{matrix}0.5 I_{3x3} \\Delta t & I_{3x3} \\Delta t & 0\\\\0 & I_{3x3} & 0\\\\0 & 0 & I_{3x3}\\end{matrix}\\right]\n"
     ]
    },
    {
     "data": {
      "text/latex": [
       "$\\displaystyle \\left[\\begin{matrix}0.5 I_{3x3} \\Delta t & I_{3x3} \\Delta t & 0\\\\0 & I_{3x3} & 0\\\\0 & 0 & I_{3x3}\\end{matrix}\\right]$"
      ],
      "text/plain": [
       "Matrix([\n",
       "[0.5*I_{3x3}*\\Delta t, I_{3x3}*\\Delta t,       0],\n",
       "[                   0,          I_{3x3},       0],\n",
       "[                   0,                0, I_{3x3}]])"
      ]
     },
     "execution_count": 14,
     "metadata": {},
     "output_type": "execute_result"
    }
   ],
   "source": [
    "I = sp.var(\"I_{3x3}\")\n",
    "t = sp.Symbol(\"\\Delta t\")\n",
    "A = sp.Matrix([[1/2*I*t, I*t, 0],[0,I,0],[0,0,I]])\n",
    "sp.print_latex(sp.Matrix(A))\n",
    "A"
   ]
  },
  {
   "cell_type": "code",
   "execution_count": 15,
   "metadata": {},
   "outputs": [
    {
     "name": "stdout",
     "output_type": "stream",
     "text": [
      "\\left[\\begin{matrix}0.5 I_{3x3} \\Delta t & 0\\\\I_{3x3} \\Delta t & 0\\\\0 & I_{3x3} \\Delta t\\end{matrix}\\right]\n"
     ]
    },
    {
     "data": {
      "text/latex": [
       "$\\displaystyle \\left[\\begin{matrix}0.5 I_{3x3} \\Delta t & 0\\\\I_{3x3} \\Delta t & 0\\\\0 & I_{3x3} \\Delta t\\end{matrix}\\right]$"
      ],
      "text/plain": [
       "Matrix([\n",
       "[0.5*I_{3x3}*\\Delta t,                0],\n",
       "[    I_{3x3}*\\Delta t,                0],\n",
       "[                   0, I_{3x3}*\\Delta t]])"
      ]
     },
     "execution_count": 15,
     "metadata": {},
     "output_type": "execute_result"
    }
   ],
   "source": [
    "B = sp.Matrix([[1/2*I*t, 0],[I*t,0],[0,I*t]])\n",
    "sp.print_latex(sp.Matrix(B))\n",
    "B"
   ]
  }
 ],
 "metadata": {
  "kernelspec": {
   "display_name": "Python 3",
   "language": "python",
   "name": "python3"
  },
  "language_info": {
   "codemirror_mode": {
    "name": "ipython",
    "version": 3
   },
   "file_extension": ".py",
   "mimetype": "text/x-python",
   "name": "python",
   "nbconvert_exporter": "python",
   "pygments_lexer": "ipython3",
   "version": "3.10.6"
  },
  "orig_nbformat": 4
 },
 "nbformat": 4,
 "nbformat_minor": 2
}
