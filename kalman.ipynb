{
 "cells": [
  {
   "cell_type": "code",
   "execution_count": 5,
   "metadata": {},
   "outputs": [],
   "source": [
    "import numpy as np\n",
    "import transforms3d as tf\n",
    "import matplotlib.pyplot as plt\n",
    "from scipy.linalg import expm"
   ]
  },
  {
   "cell_type": "code",
   "execution_count": 28,
   "metadata": {},
   "outputs": [
    {
     "data": {
      "text/plain": [
       "array([[0.01 , 0.   , 0.   , 0.01 , 0.   , 0.   , 0.005, 0.   , 0.   ],\n",
       "       [0.   , 0.01 , 0.   , 0.   , 0.01 , 0.   , 0.   , 0.005, 0.   ],\n",
       "       [0.   , 0.   , 0.01 , 0.   , 0.   , 0.01 , 0.   , 0.   , 0.005],\n",
       "       [0.   , 0.   , 0.   , 0.01 , 0.   , 0.   , 0.01 , 0.   , 0.   ],\n",
       "       [0.   , 0.   , 0.   , 0.   , 0.01 , 0.   , 0.   , 0.01 , 0.   ],\n",
       "       [0.   , 0.   , 0.   , 0.   , 0.   , 0.01 , 0.   , 0.   , 0.01 ],\n",
       "       [0.   , 0.   , 0.   , 0.   , 0.   , 0.   , 0.01 , 0.   , 0.   ],\n",
       "       [0.   , 0.   , 0.   , 0.   , 0.   , 0.   , 0.   , 0.01 , 0.   ],\n",
       "       [0.   , 0.   , 0.   , 0.   , 0.   , 0.   , 0.   , 0.   , 0.01 ]])"
      ]
     },
     "execution_count": 28,
     "metadata": {},
     "output_type": "execute_result"
    }
   ],
   "source": [
    "# constant acceleration model\n",
    "dt = 0.01\n",
    "A = np.zeros((9,9))\n",
    "A[:3,3:6] = np.eye(3)\n",
    "A[3:6,6:] = np.eye(3)\n",
    "F = expm(A)*dt\n",
    "F # xk1 = F*xk"
   ]
  },
  {
   "cell_type": "code",
   "execution_count": 37,
   "metadata": {},
   "outputs": [
    {
     "data": {
      "text/plain": [
       "array([[1., 0., 0., 0., 0., 0., 0., 0., 0.],\n",
       "       [0., 1., 0., 0., 0., 0., 0., 0., 0.],\n",
       "       [0., 0., 1., 0., 0., 0., 0., 0., 0.],\n",
       "       [0., 0., 0., 1., 0., 0., 0., 0., 0.],\n",
       "       [0., 0., 0., 0., 1., 0., 0., 0., 0.],\n",
       "       [0., 0., 0., 0., 0., 1., 0., 0., 0.],\n",
       "       [0., 0., 0., 0., 0., 0., 1., 0., 0.],\n",
       "       [0., 0., 0., 0., 0., 0., 0., 1., 0.],\n",
       "       [0., 0., 0., 0., 0., 0., 0., 0., 1.]])"
      ]
     },
     "execution_count": 37,
     "metadata": {},
     "output_type": "execute_result"
    }
   ],
   "source": [
    "# IMU measurement model?\n",
    "# if taken from pre-integrated IMU measurements\n",
    "H_imu = np.eye(9)\n",
    "H_imu\n",
    "# these must be deviations, putting absolute numbers doesn't make any sense : /\n",
    "# or adding it to current state estimate : )"
   ]
  },
  {
   "cell_type": "code",
   "execution_count": null,
   "metadata": {},
   "outputs": [],
   "source": [
    "# Magnetometer measurement model?\n",
    "# H_mag = np.zeros((3,9))"
   ]
  },
  {
   "cell_type": "code",
   "execution_count": null,
   "metadata": {},
   "outputs": [],
   "source": [
    "# Take measurement model of distance from rfloc"
   ]
  }
 ],
 "metadata": {
  "kernelspec": {
   "display_name": "Python 3 (ipykernel)",
   "language": "python",
   "name": "python3"
  },
  "language_info": {
   "codemirror_mode": {
    "name": "ipython",
    "version": 3
   },
   "file_extension": ".py",
   "mimetype": "text/x-python",
   "name": "python",
   "nbconvert_exporter": "python",
   "pygments_lexer": "ipython3",
   "version": "3.10.6"
  },
  "orig_nbformat": 4,
  "vscode": {
   "interpreter": {
    "hash": "916dbcbb3f70747c44a77c7bcd40155683ae19c65e1c03b4aa3499c5328201f1"
   }
  }
 },
 "nbformat": 4,
 "nbformat_minor": 2
}
